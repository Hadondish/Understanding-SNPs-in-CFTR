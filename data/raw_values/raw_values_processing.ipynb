{
 "cells": [
  {
   "cell_type": "code",
   "execution_count": 57,
   "metadata": {},
   "outputs": [
    {
     "name": "stdout",
     "output_type": "stream",
     "text": [
      "dict_keys(['mutation', '5uak', '5w81', '5uar', '6msm', '6o1v', '6o2p', '7svr', '7svd', '7sv7', '8ej1', '8eig', '8eiq', '8eio', '8fzq'])\n"
     ]
    }
   ],
   "source": [
    "import json\n",
    "import re\n",
    "\n",
    "with open(\"raw_values.json\", \"r\") as json_file:\n",
    "    data = json.load(json_file)\n",
    "    data = data.replace(\"'\", '\"')\n",
    "    data = json.loads(data)\n",
    "\n",
    "data['mutation'] = data['mutation'][0]\n",
    "for i in range(len(data['mutation'])):\n",
    "    data['mutation'][i] = data['mutation'][i][0] + '-' + data['mutation'][i][1]\n",
    "\n",
    "print(data.keys())"
   ]
  },
  {
   "cell_type": "code",
   "execution_count": 65,
   "metadata": {},
   "outputs": [],
   "source": [
    "pattern = r'p\\.([A-Za-z]+)(\\d+)([A-Za-z]+)'\n",
    "def convert_to_values_form(string):\n",
    "    match = re.match(pattern, string)\n",
    "    if match:\n",
    "        amino_acid = match.group(1)\n",
    "        position = match.group(2)\n",
    "        substitution = match.group(3)\n",
    "        return f\"{position}-{substitution}\"\n",
    "    else:\n",
    "        return None\n",
    "    \n",
    "with open('../mutation_labels.json', 'r') as labels_file:\n",
    "    labels_data = json.load(labels_file)\n",
    "\n",
    "mutation_scores = {}\n",
    "for m_l in labels_data:\n",
    "    labels_str = m_l['Mutation ']\n",
    "    values_str = convert_to_values_form(labels_str)\n",
    "    if values_str != \"35-Leu\":\n",
    "        mutation_scores[values_str] = m_l[\"Score by rubric (manual)\"]\n",
    "    else:\n",
    "        mutation_scores[values_str] = 0"
   ]
  },
  {
   "cell_type": "code",
   "execution_count": 81,
   "metadata": {},
   "outputs": [],
   "source": [
    "labeled_data = {}\n",
    "unlabeled_data = []\n",
    "\n",
    "print_output = False\n",
    "\n",
    "for i in range(len(data['mutation'])):\n",
    "    mutation = data['mutation'][i]\n",
    "    if print_output:\n",
    "        print(\"*----* \" + mutation + \" *----*\")\n",
    "        print(\"* 5uak *\"); print(data['5uak']['before'][i]); print(data['5uak']['after'][i])\n",
    "        print(\"* 5w81 *\"); print(data['5w81']['before'][i]); print(data['5w81']['after'][i])\n",
    "        print(\"* 5uar *\"); print(data['5uar']['before'][i]); print(data['5uar']['after'][i])\n",
    "        print(\"* 6msm *\"); print(data['6msm']['before'][i]); print(data['6msm']['after'][i])\n",
    "        print(\"* 6o1v *\"); print(data['6o1v']['before'][i]); print(data['6o1v']['after'][i])\n",
    "        print(\"* 6o2p *\"); print(data['6o2p']['before'][i]); print(data['6o2p']['after'][i])\n",
    "        print(\"* 7svr *\"); print(data['7svr']['before'][i]); print(data['7svr']['after'][i])\n",
    "        print(\"* 7svd *\"); print(data['7svd']['before'][i]); print(data['7svd']['after'][i])\n",
    "        print(\"* 7sv7 *\"); print(data['7sv7']['before'][i]); print(data['7sv7']['after'][i])\n",
    "        print(\"* 8ej1 *\"); print(data['8ej1']['before'][i]); print(data['8ej1']['after'][i])\n",
    "        print(\"* 8eig *\"); print(data['8eig']['before'][i]); print(data['8eig']['after'][i])\n",
    "        print(\"* 8eiq *\"); print(data['8eiq']['before'][i]); print(data['8eiq']['after'][i])\n",
    "        print(\"* 8eio *\"); print(data['8eio']['before'][i]); print(data['8eio']['after'][i])\n",
    "        print(\"* 8fzq *\"); print(data['8fzq']['before'][i]); print(data['8fzq']['after'][i])\n",
    "    if (not data['5uak']['before'][i]): data['5uak']['before'][i] = [0] * 5\n",
    "    if (not data['5uak']['after'][i]): data['5uak']['after'][i] = [0] * 5\n",
    "    if (not data['5w81']['before'][i]): data['5w81']['before'][i] = [0] * 5\n",
    "    if (not data['5w81']['after'][i]): data['5w81']['after'][i] = [0] * 5\n",
    "    if (not data['5uar']['before'][i]): data['5uar']['before'][i] = [0] * 5\n",
    "    if (not data['5uar']['after'][i]): data['5uar']['after'][i] = [0] * 5\n",
    "    if (not data['6msm']['before'][i]): data['6msm']['before'][i] = [0] * 5\n",
    "    if (not data['6msm']['after'][i]): data['6msm']['after'][i] = [0] * 5\n",
    "    if (not data['6o1v']['before'][i]): data['6o1v']['before'][i] = [0] * 5\n",
    "    if (not data['6o1v']['after'][i]): data['6o1v']['after'][i] = [0] * 5\n",
    "    if (not data['6o2p']['before'][i]): data['6o2p']['before'][i] = [0] * 5\n",
    "    if (not data['6o2p']['after'][i]): data['6o2p']['after'][i] = [0] * 5\n",
    "    if (not data['7svr']['before'][i]): data['7svr']['before'][i] = [0] * 5\n",
    "    if (not data['7svr']['after'][i]): data['7svr']['after'][i] = [0] * 5\n",
    "    if (not data['7svd']['before'][i]): data['7svd']['before'][i] = [0] * 5\n",
    "    if (not data['7svd']['after'][i]): data['7svd']['after'][i] = [0] * 5\n",
    "    if (not data['7sv7']['before'][i]): data['7sv7']['before'][i] = [0] * 5\n",
    "    if (not data['7sv7']['after'][i]): data['7sv7']['after'][i] = [0] * 5\n",
    "    if (not data['8ej1']['before'][i]): data['8ej1']['before'][i] = [0] * 5\n",
    "    if (not data['8ej1']['after'][i]): data['8ej1']['after'][i] = [0] * 5\n",
    "    if (not data['8eig']['before'][i]): data['8eig']['before'][i] = [0] * 5\n",
    "    if (not data['8eig']['after'][i]): data['8eig']['after'][i] = [0] * 5\n",
    "    if (not data['8eiq']['before'][i]): data['8eiq']['before'][i] = [0] * 5\n",
    "    if (not data['8eiq']['after'][i]): data['8eiq']['after'][i] = [0] * 5\n",
    "    if (not data['8eio']['before'][i]): data['8eio']['before'][i] = [0] * 5\n",
    "    if (not data['8eio']['after'][i]): data['8eio']['after'][i] = [0] * 5\n",
    "    if (not data['8fzq']['before'][i]): data['8fzq']['before'][i] = [0] * 5\n",
    "    if (not data['8fzq']['after'][i]): data['8fzq']['after'][i] = [0] * 5\n",
    "    if mutation in mutation_scores.keys():\n",
    "        labeled_data[mutation] = {\"score\": mutation_scores[mutation]}\n",
    "        labeled_data[mutation] |= {f\"5uak_before{j}\": data['5uak']['before'][i][j] for j in range(5)} | {f\"5uak_after{j}\": data['5uak']['after'][i][j] for j in range(5)}\n",
    "        labeled_data[mutation] |= {f\"5w81_before{j}\": data['5w81']['before'][i][j] for j in range(5)} | {f\"5w81_after{j}\": data['5w81']['after'][i][j] for j in range(5)}\n",
    "        labeled_data[mutation] |= {f\"5uar_before{j}\": data['5uar']['before'][i][j] for j in range(5)} | {f\"5uar_after{j}\": data['5uar']['after'][i][j] for j in range(5)}\n",
    "        labeled_data[mutation] |= {f\"6msm_before{j}\": data['5uar']['before'][i][j] for j in range(5)} | {f\"6msm_after{j}\": data['5uar']['after'][i][j] for j in range(5)}\n",
    "        labeled_data[mutation] |= {f\"6o1v_before{j}\": data['6o1v']['before'][i][j] for j in range(5)} | {f\"6o1v_after{j}\": data['6o1v']['after'][i][j] for j in range(5)}\n",
    "        labeled_data[mutation] |= {f\"6o2p_before{j}\": data['6o2p']['before'][i][j] for j in range(5)} | {f\"6o2p_after{j}\": data['6o2p']['after'][i][j] for j in range(5)}\n",
    "        labeled_data[mutation] |= {f\"7svr_before{j}\": data['7svr']['before'][i][j] for j in range(5)} | {f\"7svr_after{j}\": data['7svr']['after'][i][j] for j in range(5)}\n",
    "        labeled_data[mutation] |= {f\"7svd_before{j}\": data['7svd']['before'][i][j] for j in range(5)} | {f\"7svd_after{j}\": data['7svd']['after'][i][j] for j in range(5)}\n",
    "        labeled_data[mutation] |= {f\"7sv7_before{j}\": data['7sv7']['before'][i][j] for j in range(5)} | {f\"7sv7_after{j}\": data['7sv7']['after'][i][j] for j in range(5)}\n",
    "        labeled_data[mutation] |= {f\"8ej1_before{j}\": data['8ej1']['before'][i][j] for j in range(5)} | {f\"8ej1_after{j}\": data['8ej1']['after'][i][j] for j in range(5)}\n",
    "        labeled_data[mutation] |= {f\"8eig_before{j}\": data['8eig']['before'][i][j] for j in range(5)} | {f\"8eig_after{j}\": data['8eig']['after'][i][j] for j in range(5)}\n",
    "        labeled_data[mutation] |= {f\"8eiq_before{j}\": data['8eiq']['before'][i][j] for j in range(5)} | {f\"8eiq_after{j}\": data['8eiq']['after'][i][j] for j in range(5)}\n",
    "        labeled_data[mutation] |= {f\"8eio_before{j}\": data['8eio']['before'][i][j] for j in range(5)} | {f\"8eio_after{j}\": data['8eio']['after'][i][j] for j in range(5)}\n",
    "        labeled_data[mutation] |= {f\"8fzq_before{j}\": data['8fzq']['before'][i][j] for j in range(5)} | {f\"8fzq_after{j}\": data['8fzq']['after'][i][j] for j in range(5)}\n",
    "    else:\n",
    "        pass # test\n",
    "\n",
    "with open(\"../labeled_data_2.json\", \"w\") as json_file:\n",
    "    json.dump(labeled_data, json_file)"
   ]
  },
  {
   "cell_type": "code",
   "execution_count": null,
   "metadata": {},
   "outputs": [],
   "source": []
  },
  {
   "cell_type": "code",
   "execution_count": null,
   "metadata": {},
   "outputs": [],
   "source": []
  }
 ],
 "metadata": {
  "kernelspec": {
   "display_name": "base",
   "language": "python",
   "name": "python3"
  },
  "language_info": {
   "codemirror_mode": {
    "name": "ipython",
    "version": 3
   },
   "file_extension": ".py",
   "mimetype": "text/x-python",
   "name": "python",
   "nbconvert_exporter": "python",
   "pygments_lexer": "ipython3",
   "version": "3.9.15"
  },
  "orig_nbformat": 4
 },
 "nbformat": 4,
 "nbformat_minor": 2
}
