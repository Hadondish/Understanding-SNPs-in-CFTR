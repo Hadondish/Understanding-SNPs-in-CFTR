{
 "cells": [
  {
   "cell_type": "code",
   "execution_count": 107,
   "metadata": {},
   "outputs": [],
   "source": [
    "import numpy as np\n",
    "import matplotlib.pyplot as plt\n",
    "from sklearn.model_selection import train_test_split\n",
    "from sklearn.decomposition import PCA\n",
    "from sklearn.ensemble import RandomForestClassifier, BaggingClassifier\n",
    "from sklearn.tree import DecisionTreeClassifier\n",
    "from sklearn.metrics import accuracy_score, classification_report\n",
    "import json"
   ]
  },
  {
   "cell_type": "code",
   "execution_count": 108,
   "metadata": {},
   "outputs": [],
   "source": [
    "EPS = 1e-8\n",
    "\n",
    "def normalize(X):\n",
    "    X_mean = np.mean(X, axis=0)\n",
    "    X_std = np.std(X, axis=0)\n",
    "    return (X - X_mean) / (X_std + EPS), X_mean, X_std\n",
    "\n",
    "def denormalize(X_normalized, X_mean, X_std):\n",
    "    return (X_normalized * (X_std + EPS)) + X_mean"
   ]
  },
  {
   "cell_type": "code",
   "execution_count": 109,
   "metadata": {},
   "outputs": [],
   "source": [
    "with open(\"../data/labeled_data_2.json\", \"r\") as json_file:\n",
    "    data = json.load(json_file)\n",
    "\n",
    "y = np.array([entry['score'] for entry in data.values()])\n",
    "y_avg = np.mean(y)\n",
    "y = np.where(y_avg < y, y, 0)\n",
    "y = np.where(y_avg >= y, y, 1)\n",
    "X = np.array([np.array(list({k : v for k, v in entry.items() if k != 'score'}.values())) for entry in data.values()])\n",
    "X_normalized, X_mean, X_std = normalize(X)\n",
    "X_train, X_eval, y_train, y_eval = train_test_split(X_normalized, y, test_size=0.20)"
   ]
  },
  {
   "cell_type": "markdown",
   "metadata": {},
   "source": [
    "# 1. Random Forest / Bagging"
   ]
  },
  {
   "cell_type": "code",
   "execution_count": 110,
   "metadata": {},
   "outputs": [
    {
     "name": "stdout",
     "output_type": "stream",
     "text": [
      "Random Forest Classifier Accuracy: 0.54\n",
      "              precision    recall  f1-score   support\n",
      "\n",
      "         0.0       0.47      0.64      0.54        11\n",
      "         1.0       0.64      0.47      0.54        15\n",
      "\n",
      "    accuracy                           0.54        26\n",
      "   macro avg       0.55      0.55      0.54        26\n",
      "weighted avg       0.56      0.54      0.54        26\n",
      "\n"
     ]
    }
   ],
   "source": [
    "# Initialize the Random Forest Classifier\n",
    "rf_classifier = RandomForestClassifier(n_estimators=100)\n",
    "\n",
    "# Train the model on the training data\n",
    "rf_classifier.fit(X_train, y_train)\n",
    "\n",
    "# Make predictions on the evaluation data\n",
    "rf_predictions = rf_classifier.predict(X_eval)\n",
    "\n",
    "# Evaluate the model's performance\n",
    "rf_accuracy = accuracy_score(y_eval, rf_predictions)\n",
    "print(f\"Random Forest Classifier Accuracy: {rf_accuracy:.2f}\")\n",
    "print(classification_report(y_eval, rf_predictions))"
   ]
  },
  {
   "cell_type": "code",
   "execution_count": 111,
   "metadata": {},
   "outputs": [
    {
     "name": "stderr",
     "output_type": "stream",
     "text": [
      "/Users/ryan/miniforge3/lib/python3.9/site-packages/sklearn/ensemble/_base.py:166: FutureWarning: `base_estimator` was renamed to `estimator` in version 1.2 and will be removed in 1.4.\n",
      "  warnings.warn(\n"
     ]
    },
    {
     "name": "stdout",
     "output_type": "stream",
     "text": [
      "Bagging Classifier Accuracy: 0.62\n",
      "              precision    recall  f1-score   support\n",
      "\n",
      "         0.0       0.53      0.73      0.62        11\n",
      "         1.0       0.73      0.53      0.62        15\n",
      "\n",
      "    accuracy                           0.62        26\n",
      "   macro avg       0.63      0.63      0.62        26\n",
      "weighted avg       0.65      0.62      0.62        26\n",
      "\n"
     ]
    }
   ],
   "source": [
    "# Initialize the base estimator (e.g., Decision Tree)\n",
    "base_estimator = DecisionTreeClassifier()\n",
    "\n",
    "# Initialize the Bagging Classifier\n",
    "bagging_classifier = BaggingClassifier(base_estimator=base_estimator, n_estimators=100)\n",
    "\n",
    "# Train the model on the training data\n",
    "bagging_classifier.fit(X_train, y_train)\n",
    "\n",
    "# Make predictions on the evaluation data\n",
    "bagging_predictions = bagging_classifier.predict(X_eval)\n",
    "\n",
    "# Evaluate the model's performance\n",
    "bagging_accuracy = accuracy_score(y_eval, bagging_predictions)\n",
    "print(f\"Bagging Classifier Accuracy: {bagging_accuracy:.2f}\")\n",
    "print(classification_report(y_eval, bagging_predictions))"
   ]
  },
  {
   "cell_type": "markdown",
   "metadata": {},
   "source": [
    "# 2. Pruning data with PCA first"
   ]
  },
  {
   "cell_type": "code",
   "execution_count": 112,
   "metadata": {},
   "outputs": [],
   "source": [
    "# Initialize the PCA object with 2 principal components\n",
    "pca = PCA(n_components=2)\n",
    "\n",
    "# Fit and transform the training data\n",
    "X_train_pca = pca.fit_transform(X_train)\n",
    "\n",
    "# Transform the evaluation data using the same PCA model\n",
    "X_eval_pca = pca.transform(X_eval)"
   ]
  },
  {
   "cell_type": "code",
   "execution_count": 113,
   "metadata": {},
   "outputs": [
    {
     "name": "stdout",
     "output_type": "stream",
     "text": [
      "Random Forest Classifier Accuracy: 0.46\n",
      "              precision    recall  f1-score   support\n",
      "\n",
      "         0.0       0.40      0.55      0.46        11\n",
      "         1.0       0.55      0.40      0.46        15\n",
      "\n",
      "    accuracy                           0.46        26\n",
      "   macro avg       0.47      0.47      0.46        26\n",
      "weighted avg       0.48      0.46      0.46        26\n",
      "\n"
     ]
    }
   ],
   "source": [
    "# Initialize the Random Forest Classifier\n",
    "rf_classifier = RandomForestClassifier(n_estimators=100)\n",
    "\n",
    "# Train the model on the training data\n",
    "rf_classifier.fit(X_train_pca, y_train)\n",
    "\n",
    "# Make predictions on the evaluation data\n",
    "rf_predictions = rf_classifier.predict(X_eval_pca)\n",
    "\n",
    "# Evaluate the model's performance\n",
    "rf_accuracy = accuracy_score(y_eval, rf_predictions)\n",
    "print(f\"Random Forest Classifier Accuracy: {rf_accuracy:.2f}\")\n",
    "print(classification_report(y_eval, rf_predictions))"
   ]
  },
  {
   "cell_type": "code",
   "execution_count": 114,
   "metadata": {},
   "outputs": [
    {
     "name": "stdout",
     "output_type": "stream",
     "text": [
      "Bagging Classifier Accuracy: 0.46\n",
      "              precision    recall  f1-score   support\n",
      "\n",
      "         0.0       0.40      0.55      0.46        11\n",
      "         1.0       0.55      0.40      0.46        15\n",
      "\n",
      "    accuracy                           0.46        26\n",
      "   macro avg       0.47      0.47      0.46        26\n",
      "weighted avg       0.48      0.46      0.46        26\n",
      "\n"
     ]
    },
    {
     "name": "stderr",
     "output_type": "stream",
     "text": [
      "/Users/ryan/miniforge3/lib/python3.9/site-packages/sklearn/ensemble/_base.py:166: FutureWarning: `base_estimator` was renamed to `estimator` in version 1.2 and will be removed in 1.4.\n",
      "  warnings.warn(\n"
     ]
    }
   ],
   "source": [
    "# Initialize the base estimator (e.g., Decision Tree)\n",
    "base_estimator = DecisionTreeClassifier()\n",
    "\n",
    "# Initialize the Bagging Classifier\n",
    "bagging_classifier = BaggingClassifier(base_estimator=base_estimator, n_estimators=100)\n",
    "\n",
    "# Train the model on the training data\n",
    "bagging_classifier.fit(X_train_pca, y_train)\n",
    "\n",
    "# Make predictions on the evaluation data\n",
    "bagging_predictions = bagging_classifier.predict(X_eval_pca)\n",
    "\n",
    "# Evaluate the model's performance\n",
    "bagging_accuracy = accuracy_score(y_eval, bagging_predictions)\n",
    "print(f\"Bagging Classifier Accuracy: {bagging_accuracy:.2f}\")\n",
    "print(classification_report(y_eval, bagging_predictions))"
   ]
  },
  {
   "cell_type": "code",
   "execution_count": null,
   "metadata": {},
   "outputs": [],
   "source": []
  }
 ],
 "metadata": {
  "kernelspec": {
   "display_name": "base",
   "language": "python",
   "name": "python3"
  },
  "language_info": {
   "codemirror_mode": {
    "name": "ipython",
    "version": 3
   },
   "file_extension": ".py",
   "mimetype": "text/x-python",
   "name": "python",
   "nbconvert_exporter": "python",
   "pygments_lexer": "ipython3",
   "version": "3.9.15"
  },
  "orig_nbformat": 4
 },
 "nbformat": 4,
 "nbformat_minor": 2
}
