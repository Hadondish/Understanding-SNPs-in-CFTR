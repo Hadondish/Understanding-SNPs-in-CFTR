{
 "cells": [
  {
   "cell_type": "code",
   "execution_count": 116,
   "metadata": {},
   "outputs": [],
   "source": [
    "import numpy as np\n",
    "import matplotlib.pyplot as plt\n",
    "from sklearn.model_selection import train_test_split\n",
    "from sklearn.decomposition import PCA\n",
    "from sklearn.ensemble import RandomForestClassifier, BaggingClassifier\n",
    "from sklearn.tree import DecisionTreeClassifier\n",
    "from sklearn.metrics import accuracy_score, classification_report\n",
    "import json"
   ]
  },
  {
   "cell_type": "code",
   "execution_count": 117,
   "metadata": {},
   "outputs": [],
   "source": [
    "EPS = 1e-8\n",
    "\n",
    "def normalize(X):\n",
    "    X_mean = np.mean(X, axis=0)\n",
    "    X_std = np.std(X, axis=0)\n",
    "    return (X - X_mean) / (X_std + EPS), X_mean, X_std\n",
    "\n",
    "def denormalize(X_normalized, X_mean, X_std):\n",
    "    return (X_normalized * (X_std + EPS)) + X_mean"
   ]
  },
  {
   "cell_type": "code",
   "execution_count": 118,
   "metadata": {},
   "outputs": [
    {
     "name": "stdout",
     "output_type": "stream",
     "text": [
      "(128, 140)\n"
     ]
    }
   ],
   "source": [
    "with open(\"../data/labeled_data_2.json\", \"r\") as json_file:\n",
    "    data = json.load(json_file)\n",
    "\n",
    "y = np.array([entry['score'] for entry in data.values()])\n",
    "y_avg = np.mean(y)\n",
    "y = np.where(y_avg < y, y, 0)\n",
    "y = np.where(y_avg >= y, y, 1)\n",
    "X = np.array([np.array(list({k : v for k, v in entry.items() if k != 'score'}.values())) for entry in data.values()])\n",
    "X_normalized, X_mean, X_std = normalize(X)\n",
    "X_train, X_eval, y_train, y_eval = train_test_split(X_normalized, y, test_size=0.20)\n",
    "\n",
    "print(X_normalized.shape)"
   ]
  },
  {
   "cell_type": "markdown",
   "metadata": {},
   "source": [
    "# 1. Random Forest / Bagging"
   ]
  },
  {
   "cell_type": "code",
   "execution_count": 119,
   "metadata": {},
   "outputs": [
    {
     "name": "stdout",
     "output_type": "stream",
     "text": [
      "Random Forest Classifier Accuracy: 0.69\n",
      "              precision    recall  f1-score   support\n",
      "\n",
      "         0.0       0.89      0.53      0.67        15\n",
      "         1.0       0.59      0.91      0.71        11\n",
      "\n",
      "    accuracy                           0.69        26\n",
      "   macro avg       0.74      0.72      0.69        26\n",
      "weighted avg       0.76      0.69      0.69        26\n",
      "\n"
     ]
    }
   ],
   "source": [
    "# Initialize the Random Forest Classifier\n",
    "rf_classifier = RandomForestClassifier(n_estimators=100)\n",
    "\n",
    "# Train the model on the training data\n",
    "rf_classifier.fit(X_train, y_train)\n",
    "\n",
    "# Make predictions on the evaluation data\n",
    "rf_predictions = rf_classifier.predict(X_eval)\n",
    "\n",
    "# Evaluate the model's performance\n",
    "rf_accuracy = accuracy_score(y_eval, rf_predictions)\n",
    "print(f\"Random Forest Classifier Accuracy: {rf_accuracy:.2f}\")\n",
    "print(classification_report(y_eval, rf_predictions))"
   ]
  },
  {
   "cell_type": "code",
   "execution_count": 120,
   "metadata": {},
   "outputs": [
    {
     "name": "stderr",
     "output_type": "stream",
     "text": [
      "/Users/ryan/miniforge3/lib/python3.9/site-packages/sklearn/ensemble/_base.py:166: FutureWarning: `base_estimator` was renamed to `estimator` in version 1.2 and will be removed in 1.4.\n",
      "  warnings.warn(\n"
     ]
    },
    {
     "name": "stdout",
     "output_type": "stream",
     "text": [
      "Bagging Classifier Accuracy: 0.69\n",
      "              precision    recall  f1-score   support\n",
      "\n",
      "         0.0       0.89      0.53      0.67        15\n",
      "         1.0       0.59      0.91      0.71        11\n",
      "\n",
      "    accuracy                           0.69        26\n",
      "   macro avg       0.74      0.72      0.69        26\n",
      "weighted avg       0.76      0.69      0.69        26\n",
      "\n"
     ]
    }
   ],
   "source": [
    "# Initialize the base estimator (e.g., Decision Tree)\n",
    "base_estimator = DecisionTreeClassifier()\n",
    "\n",
    "# Initialize the Bagging Classifier\n",
    "bagging_classifier = BaggingClassifier(base_estimator=base_estimator, n_estimators=100)\n",
    "\n",
    "# Train the model on the training data\n",
    "bagging_classifier.fit(X_train, y_train)\n",
    "\n",
    "# Make predictions on the evaluation data\n",
    "bagging_predictions = bagging_classifier.predict(X_eval)\n",
    "\n",
    "# Evaluate the model's performance\n",
    "bagging_accuracy = accuracy_score(y_eval, bagging_predictions)\n",
    "print(f\"Bagging Classifier Accuracy: {bagging_accuracy:.2f}\")\n",
    "print(classification_report(y_eval, bagging_predictions))"
   ]
  },
  {
   "cell_type": "markdown",
   "metadata": {},
   "source": [
    "# 2. Pruning data with PCA first"
   ]
  },
  {
   "cell_type": "code",
   "execution_count": 121,
   "metadata": {},
   "outputs": [],
   "source": [
    "# Initialize the PCA object with 2 principal components\n",
    "pca = PCA(n_components=2)\n",
    "\n",
    "# Fit and transform the training data\n",
    "X_train_pca = pca.fit_transform(X_train)\n",
    "\n",
    "# Transform the evaluation data using the same PCA model\n",
    "X_eval_pca = pca.transform(X_eval)"
   ]
  },
  {
   "cell_type": "code",
   "execution_count": 122,
   "metadata": {},
   "outputs": [
    {
     "name": "stdout",
     "output_type": "stream",
     "text": [
      "Random Forest Classifier Accuracy: 0.65\n",
      "              precision    recall  f1-score   support\n",
      "\n",
      "         0.0       0.75      0.60      0.67        15\n",
      "         1.0       0.57      0.73      0.64        11\n",
      "\n",
      "    accuracy                           0.65        26\n",
      "   macro avg       0.66      0.66      0.65        26\n",
      "weighted avg       0.67      0.65      0.66        26\n",
      "\n"
     ]
    }
   ],
   "source": [
    "# Initialize the Random Forest Classifier\n",
    "rf_classifier = RandomForestClassifier(n_estimators=100)\n",
    "\n",
    "# Train the model on the training data\n",
    "rf_classifier.fit(X_train_pca, y_train)\n",
    "\n",
    "# Make predictions on the evaluation data\n",
    "rf_predictions = rf_classifier.predict(X_eval_pca)\n",
    "\n",
    "# Evaluate the model's performance\n",
    "rf_accuracy = accuracy_score(y_eval, rf_predictions)\n",
    "print(f\"Random Forest Classifier Accuracy: {rf_accuracy:.2f}\")\n",
    "print(classification_report(y_eval, rf_predictions))"
   ]
  },
  {
   "cell_type": "code",
   "execution_count": 123,
   "metadata": {},
   "outputs": [
    {
     "name": "stdout",
     "output_type": "stream",
     "text": [
      "Bagging Classifier Accuracy: 0.65\n",
      "              precision    recall  f1-score   support\n",
      "\n",
      "         0.0       0.75      0.60      0.67        15\n",
      "         1.0       0.57      0.73      0.64        11\n",
      "\n",
      "    accuracy                           0.65        26\n",
      "   macro avg       0.66      0.66      0.65        26\n",
      "weighted avg       0.67      0.65      0.66        26\n",
      "\n"
     ]
    },
    {
     "name": "stderr",
     "output_type": "stream",
     "text": [
      "/Users/ryan/miniforge3/lib/python3.9/site-packages/sklearn/ensemble/_base.py:166: FutureWarning: `base_estimator` was renamed to `estimator` in version 1.2 and will be removed in 1.4.\n",
      "  warnings.warn(\n"
     ]
    }
   ],
   "source": [
    "# Initialize the base estimator (e.g., Decision Tree)\n",
    "base_estimator = DecisionTreeClassifier()\n",
    "\n",
    "# Initialize the Bagging Classifier\n",
    "bagging_classifier = BaggingClassifier(base_estimator=base_estimator, n_estimators=100)\n",
    "\n",
    "# Train the model on the training data\n",
    "bagging_classifier.fit(X_train_pca, y_train)\n",
    "\n",
    "# Make predictions on the evaluation data\n",
    "bagging_predictions = bagging_classifier.predict(X_eval_pca)\n",
    "\n",
    "# Evaluate the model's performance\n",
    "bagging_accuracy = accuracy_score(y_eval, bagging_predictions)\n",
    "print(f\"Bagging Classifier Accuracy: {bagging_accuracy:.2f}\")\n",
    "print(classification_report(y_eval, bagging_predictions))"
   ]
  },
  {
   "cell_type": "code",
   "execution_count": null,
   "metadata": {},
   "outputs": [],
   "source": []
  }
 ],
 "metadata": {
  "kernelspec": {
   "display_name": "base",
   "language": "python",
   "name": "python3"
  },
  "language_info": {
   "codemirror_mode": {
    "name": "ipython",
    "version": 3
   },
   "file_extension": ".py",
   "mimetype": "text/x-python",
   "name": "python",
   "nbconvert_exporter": "python",
   "pygments_lexer": "ipython3",
   "version": "3.9.15"
  },
  "orig_nbformat": 4
 },
 "nbformat": 4,
 "nbformat_minor": 2
}
