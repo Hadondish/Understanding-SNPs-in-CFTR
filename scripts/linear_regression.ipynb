{
 "cells": [
  {
   "cell_type": "code",
   "execution_count": 66,
   "metadata": {},
   "outputs": [],
   "source": [
    "import numpy as np\n",
    "import matplotlib.pyplot as plt\n",
    "from sklearn.model_selection import train_test_split\n",
    "from sklearn.linear_model import LinearRegression\n",
    "from sklearn.metrics import mean_squared_error, r2_score\n",
    "import json"
   ]
  },
  {
   "cell_type": "markdown",
   "metadata": {},
   "source": [
    "# 1. labeled_data_1\n",
    "\n",
    "labeled_data_1 contains the following information about each data point:\n",
    "\n",
    "- Score by rubric (manual)\n",
    "- delta hbonds\n",
    "- delta contacts\n",
    "- delta clashes\n",
    "- delta interresidual\n",
    "- delta interhelical"
   ]
  },
  {
   "cell_type": "code",
   "execution_count": 67,
   "metadata": {},
   "outputs": [],
   "source": [
    "with open(\"../data/labeled_data_1.json\", \"r\") as json_file:\n",
    "    data = json.load(json_file)"
   ]
  },
  {
   "cell_type": "code",
   "execution_count": 71,
   "metadata": {},
   "outputs": [
    {
     "name": "stdout",
     "output_type": "stream",
     "text": [
      "Mean Squared Error: 4.277371459067167\n",
      "R-squared: 0.12166359915126801\n"
     ]
    }
   ],
   "source": [
    "y = np.array([entry['Manual Score'] for entry in data])\n",
    "X = np.array([np.array(list({k : v for k, v in entry.items() if k != 'Manual Score'}.values())) for entry in data])\n",
    "\n",
    "model = LinearRegression()\n",
    "model.fit(X, y)\n",
    "\n",
    "y_pred = model.predict(X)\n",
    "\n",
    "mse = mean_squared_error(y, y_pred)\n",
    "r2 = r2_score(y, y_pred)\n",
    "\n",
    "print(\"Mean Squared Error:\", mse)\n",
    "print(\"R-squared:\", r2)"
   ]
  },
  {
   "cell_type": "code",
   "execution_count": 84,
   "metadata": {},
   "outputs": [
    {
     "name": "stdout",
     "output_type": "stream",
     "text": [
      "Mean Squared Error: 4.328220569624965\n",
      "R-squared: -0.1761433480155672\n",
      "Pearson Correlation Coefficient: 0.38092619565953384\n"
     ]
    }
   ],
   "source": [
    "X_train, X_eval, y_train, y_eval = train_test_split(X, y, test_size=0.4)\n",
    "model = LinearRegression()\n",
    "model.fit(X_train, y_train)\n",
    "\n",
    "y_pred = model.predict(X_eval)\n",
    "\n",
    "mse = mean_squared_error(y_eval, y_pred)\n",
    "r2 = r2_score(y_eval, y_pred)\n",
    "\n",
    "print(\"Mean Squared Error:\", mse)\n",
    "print(\"R-squared:\", r2)\n",
    "\n",
    "correlation_coefficient = np.corrcoef(y_eval, y_pred)[0, 1]\n",
    "print(\"Pearson Correlation Coefficient:\", correlation_coefficient)"
   ]
  },
  {
   "cell_type": "markdown",
   "metadata": {},
   "source": [
    "# 2. labeled_data\n",
    "\n",
    "labeled_data contains the following information about each data point:\n",
    "\n",
    "- Score by rubric (manual)\n",
    "- hbonds before, hbonds after\n",
    "- contacts before, contacts after\n",
    "- clashes before, clashes after\n",
    "- interresidual before, interresidual after\n",
    "- interhelical before, interhelical after\n",
    "- rationalized score (*what does this mean?*)"
   ]
  },
  {
   "cell_type": "markdown",
   "metadata": {},
   "source": [
    "## 2.1 Splitting the data\n",
    "\n",
    "Split the data into 80% training and 20% evaluation. Use the training data to fit the model and use the evaluation data to see how well the model performs on data it hasn't been trained on"
   ]
  },
  {
   "cell_type": "code",
   "execution_count": 50,
   "metadata": {},
   "outputs": [],
   "source": [
    "with open(\"../data/labeled_data.json\", \"r\") as json_file:\n",
    "    data = json.load(json_file)"
   ]
  },
  {
   "cell_type": "code",
   "execution_count": 51,
   "metadata": {},
   "outputs": [
    {
     "name": "stdout",
     "output_type": "stream",
     "text": [
      "X (130, 11)\n",
      "y (130,)\n"
     ]
    }
   ],
   "source": [
    "y = np.array([entry['Manual Score'] for entry in data])\n",
    "X = np.array([np.array(list({k : v for k, v in entry.items() if k != 'Manual Score'}.values())) for entry in data])\n",
    "\n",
    "print(\"X\", X.shape)\n",
    "print(\"y\", y.shape)"
   ]
  },
  {
   "cell_type": "code",
   "execution_count": 52,
   "metadata": {},
   "outputs": [
    {
     "name": "stdout",
     "output_type": "stream",
     "text": [
      "train set (104, 11) (104,)\n",
      "eval set (26, 11) (26,)\n"
     ]
    }
   ],
   "source": [
    "X_train, X_eval, y_train, y_eval = train_test_split(X, y, test_size=0.2)\n",
    "print(\"train set\", X_train.shape, y_train.shape)\n",
    "print(\"eval set\", X_eval.shape, y_eval.shape)"
   ]
  },
  {
   "cell_type": "code",
   "execution_count": 60,
   "metadata": {},
   "outputs": [
    {
     "name": "stdout",
     "output_type": "stream",
     "text": [
      "Mean Squared Error: 5.533920838774105\n",
      "R-squared: -0.05052807835195039\n",
      "Pearson Correlation Coefficient: 0.3049037332211683\n"
     ]
    }
   ],
   "source": [
    "model = LinearRegression()\n",
    "model.fit(X_train, y_train)\n",
    "\n",
    "y_pred = model.predict(X_eval)\n",
    "\n",
    "mse = mean_squared_error(y_eval, y_pred)\n",
    "r2 = r2_score(y_eval, y_pred)\n",
    "\n",
    "print(\"Mean Squared Error:\", mse)\n",
    "print(\"R-squared:\", r2)\n",
    "\n",
    "correlation_coefficient = np.corrcoef(y_eval, y_pred)[0, 1]\n",
    "print(\"Pearson Correlation Coefficient:\", correlation_coefficient)"
   ]
  },
  {
   "cell_type": "markdown",
   "metadata": {},
   "source": [
    "## 2.2 Fit on all of the data\n",
    "\n",
    "Use all of the limited data to fit a linear regression model, then see how well this model performs on itself."
   ]
  },
  {
   "cell_type": "code",
   "execution_count": 54,
   "metadata": {},
   "outputs": [],
   "source": [
    "with open(\"../data/labeled_data.json\", \"r\") as json_file:\n",
    "    data = json.load(json_file)"
   ]
  },
  {
   "cell_type": "code",
   "execution_count": 44,
   "metadata": {},
   "outputs": [
    {
     "name": "stdout",
     "output_type": "stream",
     "text": [
      "Mean Squared Error: 3.7637869572389917\n",
      "R-squared: 0.22712555567861314\n",
      "Pearson Correlation Coefficient: 0.4765769147562781\n"
     ]
    }
   ],
   "source": [
    "y = np.array([entry['Manual Score'] for entry in data])\n",
    "X = np.array([np.array(list({k : v for k, v in entry.items() if k != 'Manual Score'}.values())) for entry in data])\n",
    "\n",
    "model = LinearRegression()\n",
    "model.fit(X, y)\n",
    "\n",
    "y_pred = model.predict(X)\n",
    "\n",
    "mse = mean_squared_error(y, y_pred)\n",
    "r2 = r2_score(y, y_pred)\n",
    "\n",
    "print(\"Mean Squared Error:\", mse)\n",
    "print(\"R-squared:\", r2)\n",
    "\n",
    "correlation_coefficient = np.corrcoef(y, y_pred)[0, 1]\n",
    "print(\"Pearson Correlation Coefficient:\", correlation_coefficient)"
   ]
  },
  {
   "cell_type": "code",
   "execution_count": null,
   "metadata": {},
   "outputs": [],
   "source": []
  }
 ],
 "metadata": {
  "kernelspec": {
   "display_name": "base",
   "language": "python",
   "name": "python3"
  },
  "language_info": {
   "codemirror_mode": {
    "name": "ipython",
    "version": 3
   },
   "file_extension": ".py",
   "mimetype": "text/x-python",
   "name": "python",
   "nbconvert_exporter": "python",
   "pygments_lexer": "ipython3",
   "version": "3.9.15"
  },
  "orig_nbformat": 4
 },
 "nbformat": 4,
 "nbformat_minor": 2
}
